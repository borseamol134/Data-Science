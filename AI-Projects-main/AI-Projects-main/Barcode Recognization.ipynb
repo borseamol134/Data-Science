{
 "cells": [
  {
   "cell_type": "code",
   "execution_count": null,
   "metadata": {},
   "outputs": [
    {
     "name": "stdout",
     "output_type": "stream",
     "text": [
      "Type :  EAN13\n",
      "Data :  b'0705632085943' \n",
      "\n"
     ]
    }
   ],
   "source": [
    "from __future__ import print_function\n",
    "import pyzbar.pyzbar as pyzbar\n",
    "import numpy as np\n",
    "import cv2\n",
    "\n",
    "def decode(im) :\n",
    "  # Find barcodes and QR codes\n",
    "  decodedObjects = pyzbar.decode(im)\n",
    "\n",
    "  # Print results\n",
    "  for obj in decodedObjects:\n",
    "    print('Type : ', obj.type)\n",
    "    print('Data : ', str(obj.data),'\\n')\n",
    "\n",
    "  return decodedObjects\n",
    "\n",
    "\n",
    "# Display barcode and QR code location\n",
    "def display(im, decodedObjects):\n",
    "\n",
    "  # Loop over all decoded objects\n",
    "  for decodedObject in decodedObjects:\n",
    "    points = decodedObject.polygon\n",
    "\n",
    "    # If the points do not form a quad, find convex hull\n",
    "    if len(points) > 4 :\n",
    "      hull = cv2.convexHull(np.array([point for point in points], dtype=np.float32))\n",
    "      hull = list(map(tuple, np.squeeze(hull)))\n",
    "    else :\n",
    "      hull = points;\n",
    "\n",
    "    # Number of points in the convex hull\n",
    "    n = len(hull)\n",
    "\n",
    "    # Draw the convext hull\n",
    "    for j in range(0,n):\n",
    "      cv2.line(im, hull[j], hull[ (j+1) % n], (255,0,0), 3)\n",
    "\n",
    "  # Display results\n",
    "  cv2.imshow(\"Results\", im);\n",
    "  cv2.waitKey(0);\n",
    "\n",
    "\n",
    "# Main\n",
    "if __name__ == '__main__':\n",
    "\n",
    "  # Read image\n",
    "  im = cv2.imread('E:/learnopencv-master/barcode-QRcodeScanner/ncb.jpg')\n",
    "\n",
    "  decodedObjects = decode(im)\n",
    "  display(im, decodedObjects)\n"
   ]
  },
  {
   "cell_type": "code",
   "execution_count": null,
   "metadata": {},
   "outputs": [],
   "source": []
  }
 ],
 "metadata": {
  "kernelspec": {
   "display_name": "Python 3",
   "language": "python",
   "name": "python3"
  },
  "language_info": {
   "codemirror_mode": {
    "name": "ipython",
    "version": 3
   },
   "file_extension": ".py",
   "mimetype": "text/x-python",
   "name": "python",
   "nbconvert_exporter": "python",
   "pygments_lexer": "ipython3",
   "version": "3.7.3"
  }
 },
 "nbformat": 4,
 "nbformat_minor": 2
}
