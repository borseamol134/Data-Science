{
 "cells": [
  {
   "cell_type": "code",
   "execution_count": 15,
   "metadata": {},
   "outputs": [],
   "source": [
    "import numpy as np\n",
    "import cv2 as cv\n",
    "import argparse\n",
    "import os.path\n",
    "from pylab import *"
   ]
  },
  {
   "cell_type": "code",
   "execution_count": 28,
   "metadata": {},
   "outputs": [],
   "source": [
    "# Specify the paths for the model files \n",
    "protoFile = \"E:/learnopencv-master/Colorization/models/colorization_deploy_v2.prototxt\"\n",
    "weightsFile = \"E:/learnopencv-master/Colorization/models/colorization_release_v2.caffemodel\"\n",
    "#weightsFile = \"./models/colorization_release_v2_norebal.caffemodel\";\n",
    "    \n",
    "\n",
    "# Read the input image\n",
    "frame = cv.imread(\"E:/learnopencv-master/Colorization/vi2.jpg\")\n",
    "\n",
    "W_in = 224\n",
    "H_in = 224\n",
    "\n",
    "# Read the network into Memory \n",
    "net = cv.dnn.readNetFromCaffe(protoFile, weightsFile) "
   ]
  },
  {
   "cell_type": "code",
   "execution_count": 29,
   "metadata": {},
   "outputs": [],
   "source": [
    "# Load the bin centers\n",
    "pts_in_hull = np.load('E:/learnopencv-master/Colorization/models/pts_in_hull.npy')\n",
    "\n",
    "# populate cluster centers as 1x1 convolution kernel\n",
    "pts_in_hull = pts_in_hull.transpose().reshape(2, 313, 1, 1)\n",
    "net.getLayer(net.getLayerId('class8_ab')).blobs = [pts_in_hull.astype(np.float32)]\n",
    "net.getLayer(net.getLayerId('conv8_313_rh')).blobs = [np.full([1, 313], 2.606, np.float32)]"
   ]
  },
  {
   "cell_type": "code",
   "execution_count": 30,
   "metadata": {},
   "outputs": [],
   "source": [
    "#Convert the rgb values of the input image to the range of 0 to 1\n",
    "img_rgb = (frame[:,:,[2, 1, 0]] * 1.0 / 255).astype(np.float32)\n",
    "img_lab = cv.cvtColor(img_rgb, cv.COLOR_RGB2Lab)\n",
    "img_l = img_lab[:,:,0] # pull out L channel"
   ]
  },
  {
   "cell_type": "code",
   "execution_count": 31,
   "metadata": {},
   "outputs": [],
   "source": [
    "# resize the lightness channel to network input size \n",
    "img_l_rs = cv.resize(img_l, (W_in, H_in)) # resize image to network input size\n",
    "img_l_rs -= 50 # subtract 50 for mean-centering"
   ]
  },
  {
   "cell_type": "code",
   "execution_count": 33,
   "metadata": {},
   "outputs": [
    {
     "data": {
      "text/plain": [
       "-1"
      ]
     },
     "execution_count": 33,
     "metadata": {},
     "output_type": "execute_result"
    }
   ],
   "source": [
    "net.setInput(cv.dnn.blobFromImage(img_l_rs))\n",
    "ab_dec = net.forward()[0,:,:,:].transpose((1,2,0)) # this is our result\n",
    "\n",
    "(H_orig,W_orig) = img_rgb.shape[:2] # original image size\n",
    "ab_dec_us = cv.resize(ab_dec, (W_orig, H_orig))\n",
    "img_lab_out = np.concatenate((img_l[:,:,np.newaxis],ab_dec_us),axis=2) # concatenate with original image L\n",
    "img_bgr_out = np.clip(cv.cvtColor(img_lab_out, cv.COLOR_Lab2BGR), 0, 1)\n",
    "\n",
    "# cv.imwrite('dog_colorized.png', cv.resize(img_bgr_out*255, imshowSize))\n",
    "imS = cv.resize(img_bgr_out, (500, 400))                    # Resize image\n",
    "cv.imshow(\"output\", imS) \n",
    "cv.waitKey(0)   "
   ]
  },
  {
   "cell_type": "code",
   "execution_count": null,
   "metadata": {},
   "outputs": [],
   "source": []
  }
 ],
 "metadata": {
  "kernelspec": {
   "display_name": "Python 3",
   "language": "python",
   "name": "python3"
  },
  "language_info": {
   "codemirror_mode": {
    "name": "ipython",
    "version": 3
   },
   "file_extension": ".py",
   "mimetype": "text/x-python",
   "name": "python",
   "nbconvert_exporter": "python",
   "pygments_lexer": "ipython3",
   "version": "3.7.3"
  }
 },
 "nbformat": 4,
 "nbformat_minor": 2
}
